{
 "cells": [
  {
   "cell_type": "code",
   "execution_count": null,
   "metadata": {},
   "outputs": [],
   "source": [
    "import numpy as np\n",
    "import matplotlib.pyplot as plt\n",
    "\n",
    "n = 70\n",
    "\n",
    "xc = n/2\n",
    "yc = n/2"
   ]
  },
  {
   "cell_type": "code",
   "execution_count": null,
   "metadata": {},
   "outputs": [],
   "source": [
    "def is_exit(position): # test if position is an absorption site (set A union B)\n",
    "    i, j = position\n",
    "    return (i == 0 or j == 0 or i == n-1 or is_good_exit(position))\n",
    "\n",
    "def is_good_exit(position): # test if position is a good absorption site (the set A)\n",
    "    i, j = position\n",
    "    return j == n-1\n",
    "\n",
    "\n",
    "\n",
    "plt.xlim(-1,n)\n",
    "plt.ylim(-1,n)\n",
    "plt.scatter([i for i in range(n) for j in range(n) if is_exit( (i,j) )],\n",
    "            [j for i in range(n) for j in range(n) if is_exit( (i,j) )],\n",
    "            color='grey', marker='.'\n",
    "           )\n",
    "plt.show()"
   ]
  },
  {
   "cell_type": "code",
   "execution_count": null,
   "metadata": {},
   "outputs": [],
   "source": [
    "\n",
    "\n",
    "\n",
    "P = np.zeros( (n,n,n,n) )  # transition probabilities of the unconditional chain\n",
    "for i in range(n):\n",
    "    for j in range(n): \n",
    "        if not(is_exit( (i,j) )):\n",
    "            for possible_move in [(i+1,j), (i+1, j+1), (i, j+1),\n",
    "                                  (i-1,j+1), (i-1,j), (i-1,j-1),\n",
    "                                  (i,j-1), (i+1,j-1)]:\n",
    "                xnew, ynew = possible_move\n",
    "                P[i,j,xnew,ynew] = 1\n",
    "            s = np.sum(P[i,j,:,:])\n",
    "            P[i,j,:,:] = (1.0 / s ) * P[i,j,:,:]\n",
    "        else:\n",
    "            P[i,j,i,j] = 1.0\n",
    "\n"
   ]
  },
  {
   "cell_type": "code",
   "execution_count": null,
   "metadata": {},
   "outputs": [],
   "source": [
    "a = np.zeros( (n,n,n,n) ) # linear system, see the np.linalg.tensorsolve documentation\n",
    "for i in range(n):\n",
    "    for j in range(n): \n",
    "        if not(is_exit( (i,j) )):\n",
    "            a[i,j,:,:] = - P[i,j,:,:]\n",
    "            \n",
    "        a[i,j,i,j] = 1\n",
    "\n",
    "b = np.zeros( (n,n) ) # boundary conditions: 1 for good exists and 0 for others.\n",
    "for i in range(n):\n",
    "    for j in range(n):\n",
    "        if is_good_exit( (i,j) ):\n",
    "            b[i,j] = 1.0\n",
    "\n",
    "\n",
    "good_exit_probabilities = np.linalg.tensorsolve(a, b)\n",
    "\n"
   ]
  },
  {
   "cell_type": "code",
   "execution_count": null,
   "metadata": {},
   "outputs": [],
   "source": [
    "P_transformed = np.zeros_like(P)\n",
    "for i in range(n):\n",
    "    for j in range(n): \n",
    "        if not(is_exit( (i,j) )):\n",
    "            for x in range(n):\n",
    "                for y in range(n):\n",
    "                    P_transformed[i,j,x,y] = P[i,j,x,y] * good_exit_probabilities[x,y] / good_exit_probabilities[i,j]\n",
    "        else: # absorption once it reaches an exit\n",
    "            P_transformed[i,j,i,j] = 1.0\n"
   ]
  },
  {
   "cell_type": "code",
   "execution_count": null,
   "metadata": {},
   "outputs": [],
   "source": [
    "\n",
    "class Point:\n",
    "    def __init__(self, x, y):\n",
    "        self.x = x\n",
    "        self.y = y\n",
    "\n",
    "all_points = [Point(i,j) for i in range(n) for j in range(n)]\n",
    "\n",
    "# Run the walk and return the positions visited.\n",
    "def run_walk():\n",
    "    x0 = n/2\n",
    "    y0 = 1\n",
    "\n",
    "    current = Point(x0, y0)\n",
    "    x_visited = []\n",
    "    y_visited = []\n",
    "    while(True):\n",
    "        current = np.random.choice(\n",
    "            all_points,\n",
    "            1, # return one random element\n",
    "            p=np.array([P_transformed[current.x, current.y, p.x, p.y] for p in all_points ])\n",
    "                      )[0]\n",
    "        x_visited.append(current.x)\n",
    "        y_visited.append(current.y)\n",
    "        if is_exit( (current.x, current.y) ):\n",
    "            break\n",
    "    \n",
    "    return x_visited, y_visited\n",
    "    "
   ]
  },
  {
   "cell_type": "code",
   "execution_count": null,
   "metadata": {
    "scrolled": true
   },
   "outputs": [],
   "source": [
    "\n",
    "def run_and_plot_walk(color):\n",
    "    x_visited, y_visited = run_walk()\n",
    "    plt.plot(x_visited, y_visited, color=color)\n",
    "\n",
    "run_and_plot_walk('green')\n",
    "run_and_plot_walk('red')\n",
    "run_and_plot_walk('blue')\n",
    "run_and_plot_walk('cyan')\n",
    "run_and_plot_walk('yellow')\n",
    "plt.xlim(-1,n)\n",
    "plt.ylim(-1,n)\n",
    "plt.scatter([i for i in range(n) for j in range(n) if is_exit( (i,j) )],\n",
    "            [j for i in range(n) for j in range(n) if is_exit( (i,j) )],\n",
    "            color='grey', marker='.'\n",
    "           )\n",
    "plt.show()\n"
   ]
  },
  {
   "cell_type": "code",
   "execution_count": null,
   "metadata": {},
   "outputs": [],
   "source": []
  }
 ],
 "metadata": {
  "kernelspec": {
   "display_name": "Python 2",
   "language": "python",
   "name": "python2"
  },
  "language_info": {
   "codemirror_mode": {
    "name": "ipython",
    "version": 2
   },
   "file_extension": ".py",
   "mimetype": "text/x-python",
   "name": "python",
   "nbconvert_exporter": "python",
   "pygments_lexer": "ipython2",
   "version": "2.7.14"
  }
 },
 "nbformat": 4,
 "nbformat_minor": 2
}
